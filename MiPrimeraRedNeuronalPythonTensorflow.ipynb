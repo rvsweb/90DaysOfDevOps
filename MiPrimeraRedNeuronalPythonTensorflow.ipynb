{
  "nbformat": 4,
  "nbformat_minor": 0,
  "metadata": {
    "colab": {
      "provenance": [],
      "authorship_tag": "ABX9TyPi0UfCWKY2U2vlS/UzcSrF",
      "include_colab_link": true
    },
    "kernelspec": {
      "name": "python3",
      "display_name": "Python 3"
    },
    "language_info": {
      "name": "python"
    }
  },
  "cells": [
    {
      "cell_type": "markdown",
      "metadata": {
        "id": "view-in-github",
        "colab_type": "text"
      },
      "source": [
        "<a href=\"https://colab.research.google.com/github/rvsweb/90DaysOfDevOps/blob/main/MiPrimeraRedNeuronalPythonTensorflow.ipynb\" target=\"_parent\"><img src=\"https://colab.research.google.com/assets/colab-badge.svg\" alt=\"Open In Colab\"/></a>"
      ]
    },
    {
      "cell_type": "code",
      "execution_count": 2,
      "metadata": {
        "id": "wNAF3gOUzZpo"
      },
      "outputs": [],
      "source": [
        "import tensorflow as tf\n",
        "import numpy as np\n"
      ]
    },
    {
      "cell_type": "code",
      "source": [
        "celsius = np.array([-40 , -10 , 0 , 8 , 15 , 22 , 38])\n",
        "fahrenheit = np.array([-40 , 14 , 32 , 46 , 59 , 72 , 100] , dtype=float)\n"
      ],
      "metadata": {
        "id": "-T0JH-FTzv3X"
      },
      "execution_count": 3,
      "outputs": []
    },
    {
      "cell_type": "code",
      "source": [
        "capa  = tf.keras.layers.Dense()\n"
      ],
      "metadata": {
        "id": "ScE4ZDeI06In"
      },
      "execution_count": null,
      "outputs": []
    }
  ]
}